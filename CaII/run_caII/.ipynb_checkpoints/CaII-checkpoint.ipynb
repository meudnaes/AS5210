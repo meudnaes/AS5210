{
 "cells": [
  {
   "cell_type": "markdown",
   "metadata": {},
   "source": [
    "# Investigating Ca II lines\n",
    "\n",
    "The `RH` code is already run, and all outputs are included in the folder. Following are analyses from the output of the code, and recipes of how I ran the code. \n",
    "\n",
    "First, we run the `RH` code as stated [here](https://tiagopereira.space/ast5210/CaII_formation/).\n",
    "\n",
    "Modify `atmos.input` to include all 10 atoms, and in `keyword.input` set `15D_WRITE_POPS = TRUE`.\n",
    "\n",
    "... relevant imports."
   ]
  },
  {
   "cell_type": "code",
   "execution_count": 1,
   "metadata": {},
   "outputs": [],
   "source": [
    "%matplotlib widget\n",
    "import numpy as np\n",
    "import matplotlib.pyplot as plt\n",
    "from helita.sim import rh15d\n",
    "from helita.vis import rh15d_vis\n",
    "from IPython.display import HTML, display"
   ]
  },
  {
   "cell_type": "markdown",
   "metadata": {},
   "source": [
    "After loading the output into data, we can find the indices of 392.8 < $\\lambda$ < 394.0 (the Ca II line) by doing:"
   ]
  },
  {
   "cell_type": "code",
   "execution_count": 2,
   "metadata": {},
   "outputs": [
    {
     "name": "stdout",
     "output_type": "stream",
     "text": [
      "--- Read output/output_aux.hdf5 file.\n",
      "--- Read output/output_indata.hdf5 file.\n",
      "--- Read output/output_ray.hdf5 file.\n"
     ]
    },
    {
     "name": "stderr",
     "output_type": "stream",
     "text": [
      "/uio/hume/student-u09/meudnaes/.local/lib/python3.7/site-packages/helita-0.9.0-py3.7-linux-x86_64.egg/helita/sim/rh15d.py:40: FutureWarning: The autoclose argument is no longer used by xarray.open_dataset() and is now ignored; it will be removed in a future version of xarray. If necessary, you can control the maximum number of simultaneous open files with xarray.set_options(file_cache_maxsize=...).\n",
      "  setattr(self, g, xr.open_dataset(infile, group=g, autoclose=True))\n",
      "/uio/hume/student-u09/meudnaes/.local/lib/python3.7/site-packages/helita-0.9.0-py3.7-linux-x86_64.egg/helita/sim/rh15d.py:53: FutureWarning: The autoclose argument is no longer used by xarray.open_dataset() and is now ignored; it will be removed in a future version of xarray. If necessary, you can control the maximum number of simultaneous open files with xarray.set_options(file_cache_maxsize=...).\n",
      "  self.ray = xr.open_dataset(infile, autoclose=True)\n"
     ]
    }
   ],
   "source": [
    "data = rh15d.Rh15dout('output/')\n",
    "data.close()\n",
    "wave = data.ray.wavelength\n",
    "indices = np.arange(len(wave))[(wave > 392.8) & (wave < 394.0)]"
   ]
  },
  {
   "cell_type": "markdown",
   "metadata": {},
   "source": [
    "### Investigating the line\n",
    "\n",
    "We plot the intensity over the relevant wavelengths."
   ]
  },
  {
   "cell_type": "code",
   "execution_count": 3,
   "metadata": {},
   "outputs": [
    {
     "data": {
      "application/vnd.jupyter.widget-view+json": {
       "model_id": "c41116c49a4847aaa2425a423b57ef32",
       "version_major": 2,
       "version_minor": 0
      },
      "text/plain": [
       "Canvas(toolbar=Toolbar(toolitems=[('Home', 'Reset original view', 'home', 'home'), ('Back', 'Back to previous …"
      ]
     },
     "metadata": {},
     "output_type": "display_data"
    }
   ],
   "source": [
    "intensity = data.ray.intensity\n",
    "fig, ax = plt.subplots()\n",
    "ax.plot(wave[indices], intensity[0,0,indices])\n",
    "ax.set_xlabel(\"Wavelength [nm]\")\n",
    "ax.set_ylabel(\"Intensity [W/(Hz nm2 sr)]\")\n",
    "ax.set_title(\"Ca II line\");"
   ]
  },
  {
   "cell_type": "markdown",
   "metadata": {},
   "source": [
    "### Detailed output\n",
    "\n",
    "To get a more detailed output, we need to run RH again over with the indices for the spectral line. We write these to the file `ray.input`. We also obtain the index for $\\lambda = 500 \\, \\textrm{nm}$, and write it to this file. We get its index with:"
   ]
  },
  {
   "cell_type": "code",
   "execution_count": 4,
   "metadata": {},
   "outputs": [],
   "source": [
    "wave.sel(wavelength=500, method='nearest')\n",
    "index500 = np.argmin(np.abs(wave.data - 500))"
   ]
  },
  {
   "cell_type": "markdown",
   "metadata": {},
   "source": [
    "To save wavelength indices into the file `ray.input` we do:"
   ]
  },
  {
   "cell_type": "code",
   "execution_count": 5,
   "metadata": {},
   "outputs": [],
   "source": [
    "f = open('ray.input', 'w')  # this will overwrite any existing file!\n",
    "f.write('1.00\\n')\n",
    "output = str(len(indices) + 1)\n",
    "for ind in indices:\n",
    "    output += ' %i' % ind\n",
    "output += ' %i\\n' % index500 \n",
    "f.write(output)\n",
    "f.close()"
   ]
  },
  {
   "cell_type": "markdown",
   "metadata": {},
   "source": [
    "Now we run the RH code again. NB! Might have to shut down the notebook kernel for RH to be able to access input files. At least close all files RH needs to use (e.g. `ray.input`)."
   ]
  },
  {
   "cell_type": "markdown",
   "metadata": {},
   "source": [
    "### Calculating optical depths"
   ]
  },
  {
   "cell_type": "markdown",
   "metadata": {},
   "source": [
    "We can obtain the optical depths for $500\\,\\textrm{nm}$ and the line core by integrating $\\chi$ (chi) over height."
   ]
  },
  {
   "cell_type": "code",
   "execution_count": 6,
   "metadata": {},
   "outputs": [],
   "source": [
    "from scipy.integrate import cumtrapz\n",
    "\n",
    "height = data.atmos.height_scale[0, 0].dropna('height')  # first column\n",
    "index500 = np.argmin(np.abs(data.ray.wavelength_selected - 500))  # index of 500 nm\n",
    "tau500 = cumtrapz(data.ray.chi[0, 0, :, index500].dropna('height'), x=-height)\n",
    "tau500 = np.concatenate([[1e-20], tau500])  # ensure tau500 and height have same size\n",
    "\n",
    "index_core = np.argmin(np.abs(data.ray.wavelength_selected - 393.37))\n",
    "tau_core = cumtrapz(data.ray.chi[0, 0, :, index_core].dropna('height'), x=-height)\n",
    "tau_core = np.concatenate([[1e-20], tau_core])"
   ]
  },
  {
   "cell_type": "markdown",
   "metadata": {},
   "source": [
    "We plot $\\tau_{500}$ and $\\tau_\\textrm{core}$ vs height, and visualise where optical depth reaches unity:"
   ]
  },
  {
   "cell_type": "code",
   "execution_count": 7,
   "metadata": {},
   "outputs": [
    {
     "data": {
      "application/vnd.jupyter.widget-view+json": {
       "model_id": "e15b3b46544843448a728f075f625d2a",
       "version_major": 2,
       "version_minor": 0
      },
      "text/plain": [
       "Canvas(toolbar=Toolbar(toolitems=[('Home', 'Reset original view', 'home', 'home'), ('Back', 'Back to previous …"
      ]
     },
     "metadata": {},
     "output_type": "display_data"
    }
   ],
   "source": [
    "fig, ax = plt.subplots()\n",
    "ax.plot(height / 1e6, tau500, label=r\"$\\tau_{500}$\")  # height in Mm\n",
    "ax.plot(height / 1e6, tau_core, label=r\"$\\tau_{core}$\")\n",
    "ax.set_xlabel(\"Height (Mm)\")\n",
    "ax.set_ylabel(r\"$\\tau_\\lambda$\")\n",
    "ax.set_title(\"Optical Depth\")\n",
    "ax.set_yscale(\"log\")\n",
    "ax.axhline(y=1, color='k', ls='--', label=r\"$\\tau=1$\")\n",
    "plt.legend();"
   ]
  },
  {
   "cell_type": "markdown",
   "metadata": {},
   "source": [
    "- At what height does $\\tau$ reach unity at 500 nm?"
   ]
  },
  {
   "cell_type": "code",
   "execution_count": 8,
   "metadata": {},
   "outputs": [
    {
     "data": {
      "text/html": [
       "$\\tau_{500}$ reaches unity at 0.0010 Mm"
      ],
      "text/plain": [
       "<IPython.core.display.HTML object>"
      ]
     },
     "metadata": {},
     "output_type": "display_data"
    }
   ],
   "source": [
    "tau_unity = height[np.argmin(np.abs(tau500 - 1))].values/1e6\n",
    "display(HTML(r\"$\\tau_{500}$ reaches unity at %.4f Mm\" %tau_unity)) "
   ]
  },
  {
   "cell_type": "markdown",
   "metadata": {},
   "source": [
    "- What about in the core of your Ca II line?"
   ]
  },
  {
   "cell_type": "code",
   "execution_count": 16,
   "metadata": {},
   "outputs": [
    {
     "data": {
      "text/html": [
       "$\\tau_\\textrm{core}$ reaches unity at 1.73 Mm"
      ],
      "text/plain": [
       "<IPython.core.display.HTML object>"
      ]
     },
     "metadata": {},
     "output_type": "display_data"
    }
   ],
   "source": [
    "tau_unity = height[np.argmin(np.abs(tau_core - 1))].values/1e6\n",
    "display(HTML(r\"$\\tau_\\textrm{core}$ reaches unity at %.2f Mm\" %tau_unity)) "
   ]
  },
  {
   "cell_type": "markdown",
   "metadata": {},
   "source": [
    "- Plot the departure coefficients for the ground Ca II level on a height scale and on a $\\tau_{500}$ scale\n",
    "\n",
    "We find the departure coefficients by dividing the level populations for $\\textrm{Ca II}$ with its own LTE populations.\n",
    "\n",
    "First we plot against a height scale."
   ]
  },
  {
   "cell_type": "code",
   "execution_count": 24,
   "metadata": {},
   "outputs": [
    {
     "data": {
      "application/vnd.jupyter.widget-view+json": {
       "model_id": "9472767b7ac74a0e80a0823e7d4846dd",
       "version_major": 2,
       "version_minor": 0
      },
      "text/plain": [
       "Canvas(toolbar=Toolbar(toolitems=[('Home', 'Reset original view', 'home', 'home'), ('Back', 'Back to previous …"
      ]
     },
     "metadata": {},
     "output_type": "display_data"
    }
   ],
   "source": [
    "pops = data.atom_CA.populations[0, 0, 0].dropna('height')\n",
    "lte_pops = data.atom_CA.populations_LTE[0, 0, 0].dropna('height')\n",
    "\n",
    "plt.figure()\n",
    "plt.semilogy(height, pops/lte_pops, label='Ground state')\n",
    "plt.legend(loc=\"upper left\")\n",
    "plt.xlabel(\"Height (Mm)\")\n",
    "plt.ylabel(\"Departure coefficients\");"
   ]
  },
  {
   "cell_type": "markdown",
   "metadata": {},
   "source": [
    "Then we plot the departure coefficient against $\\tau_{500}$"
   ]
  },
  {
   "cell_type": "code",
   "execution_count": 20,
   "metadata": {},
   "outputs": [
    {
     "data": {
      "application/vnd.jupyter.widget-view+json": {
       "model_id": "52d8185d77da4fbeb0e30cc1aee425a0",
       "version_major": 2,
       "version_minor": 0
      },
      "text/plain": [
       "Canvas(toolbar=Toolbar(toolitems=[('Home', 'Reset original view', 'home', 'home'), ('Back', 'Back to previous …"
      ]
     },
     "metadata": {},
     "output_type": "display_data"
    }
   ],
   "source": [
    "plt.figure()\n",
    "plt.loglog(tau500, pops/lte_pops, label='Ground state')\n",
    "plt.legend(loc=\"upper left\")\n",
    "plt.xlabel(r\"$\\tau_{500}$\")\n",
    "plt.ylabel(\"Departure coefficients\")\n",
    "plt.xlim(max(tau500), min(tau500));"
   ]
  },
  {
   "cell_type": "markdown",
   "metadata": {},
   "source": [
    "We see that as we move upwards in the atmosphere, the departure coefficients go from being 1, to increasing to factors greater than $10^7$. This means that LTE is valid deep down in the atmosphere, while higher up in the atmosphere (around height $=1\\,\\textrm{Mm}$ or $\\tau = 10^{-5}$) LTE breaks down."
   ]
  },
  {
   "cell_type": "markdown",
   "metadata": {},
   "source": [
    "- Plot the $\\tau=1$ height as function of wavelength for the Ca II line\n",
    "\n",
    "First we sum to find optical depth over all wavelength points."
   ]
  },
  {
   "cell_type": "code",
   "execution_count": 12,
   "metadata": {},
   "outputs": [],
   "source": [
    "waves = data.ray.wavelength_selected\n",
    "index_line = np.arange(len(waves))[(waves > 392.8) & (waves < 394.0)]\n",
    "y_arr = data.ray.chi[0, 0, :, index_line].dropna('height')\n",
    "tau_line = cumtrapz(y_arr, x=-height, axis=0, initial=1e-20)"
   ]
  },
  {
   "cell_type": "markdown",
   "metadata": {},
   "source": [
    "Then we find out at which height $\\tau = 1$ for each wavelength and plot it"
   ]
  },
  {
   "cell_type": "code",
   "execution_count": 14,
   "metadata": {},
   "outputs": [
    {
     "data": {
      "application/vnd.jupyter.widget-view+json": {
       "model_id": "ad57efc0ff4f4c0d9da1ae6a72af3ba4",
       "version_major": 2,
       "version_minor": 0
      },
      "text/plain": [
       "Canvas(toolbar=Toolbar(toolitems=[('Home', 'Reset original view', 'home', 'home'), ('Back', 'Back to previous …"
      ]
     },
     "metadata": {},
     "output_type": "display_data"
    }
   ],
   "source": [
    "tau_unity = height[np.argmin(np.abs(tau_line - 1), axis=0)].values/1e6\n",
    "fig, ax = plt.subplots()\n",
    "ax.plot(waves[index_line], tau_unity)\n",
    "ax.set_xlabel('Wavelength (nm)')\n",
    "ax.set_ylabel(r'Height$(\\tau = 1)$')\n",
    "ax.set_title(\"Line formation\");"
   ]
  },
  {
   "cell_type": "markdown",
   "metadata": {},
   "source": [
    "At $\\tau = 1$ is basically the point in the atmosphere where the line forms. Since the line is most optically thick in the core, this part forms highest up in the atmosphere."
   ]
  },
  {
   "cell_type": "markdown",
   "metadata": {},
   "source": [
    "### Source Function\n",
    "\n",
    "We use the SourceFunction widget from rh15d_vis"
   ]
  },
  {
   "cell_type": "code",
   "execution_count": 15,
   "metadata": {},
   "outputs": [
    {
     "data": {
      "application/vnd.jupyter.widget-view+json": {
       "model_id": "0cfa4157aa7b492da8c37ad302780c69",
       "version_major": 2,
       "version_minor": 0
      },
      "text/plain": [
       "Canvas(toolbar=Toolbar(toolitems=[('Home', 'Reset original view', 'home', 'home'), ('Back', 'Back to previous …"
      ]
     },
     "metadata": {},
     "output_type": "display_data"
    },
    {
     "data": {
      "application/vnd.jupyter.widget-view+json": {
       "model_id": "1e77109d26534df7a4cf1dce2ea14aaf",
       "version_major": 2,
       "version_minor": 0
      },
      "text/plain": [
       "interactive(children=(IntSlider(value=0, description='wavelength', max=43), Checkbox(value=True, description='…"
      ]
     },
     "metadata": {},
     "output_type": "display_data"
    }
   ],
   "source": [
    "rh15d_vis.SourceFunction(data);"
   ]
  },
  {
   "cell_type": "markdown",
   "metadata": {},
   "source": [
    "At the wings of the $\\textrm{Ca II}$ line, the Source function departs from the Planck function at $0.6\\,\\textrm{Mm}$ (drag slider to the far left or right). At the line core ($\\lambda = 393.366\\,\\textrm{nm} $ or index 21), the Source function departs from the Planck function at approximately the same height. The emissivity follows the Source much higher in the atmosphere in the line core."
   ]
  }
 ],
 "metadata": {
  "kernelspec": {
   "display_name": "Python 3",
   "language": "python",
   "name": "python3"
  },
  "language_info": {
   "codemirror_mode": {
    "name": "ipython",
    "version": 3
   },
   "file_extension": ".py",
   "mimetype": "text/x-python",
   "name": "python",
   "nbconvert_exporter": "python",
   "pygments_lexer": "ipython3",
   "version": "3.7.3"
  }
 },
 "nbformat": 4,
 "nbformat_minor": 4
}
